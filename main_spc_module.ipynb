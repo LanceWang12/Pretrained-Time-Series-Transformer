{
 "cells": [
  {
   "cell_type": "code",
   "execution_count": 2,
   "id": "d6b22074",
   "metadata": {},
   "outputs": [],
   "source": [
    "import numpy as np\n",
    "import pandas as pd\n",
    "import matplotlib.pyplot as plt\n",
    "import torch\n",
    "\n",
    "from ts_transformers.data import anomaly_dataset\n",
    "\n",
    "class SPCRules(object):\n",
    "    def __init__(self, data, mean, std):\n",
    "        super().__init__()\n",
    "        self.data = data\n",
    "        self.n = len(data)\n",
    "        self.index = np.array(range(self.n))\n",
    "        self.mean = mean\n",
    "        self.std = std\n",
    "        self.upper_c = mean + std\n",
    "        self.upper_b = mean + 2 * std\n",
    "        self.upper_a = mean + 3 * std\n",
    "        self.lower_c = mean - std\n",
    "        self.lower_b = mean - 2 * std\n",
    "        self.lower_a = mean - 3 * std\n",
    "#         print(self.data.shape, self.mean.shape, self.std.shape, self.upper_c.shape, self.lower_c.shape)\n",
    "    \n",
    "    def detect(self, idx: int):\n",
    "        if idx == 1:\n",
    "            # One point beyond the 3 σ control limit\n",
    "            out = (self.data < self.lower_a) | (self.data > self.upper_a)\n",
    "        elif idx == 2:\n",
    "            # Nine or more points on one side of the centerline without crossing\n",
    "            counter = 9\n",
    "            upside = (self.data > self.mean).rolling(counter).sum()\n",
    "            downside = (self.data < self.mean).rolling(counter).sum()\n",
    "            out = (upside >= counter) | (downside >= counter)\n",
    "        elif idx == 3:\n",
    "            # Two out of three points in zone A or beyond\n",
    "            counter = 3\n",
    "            upside = (self.data > self.upper_b).rolling(counter).sum()\n",
    "            downside = (self.data < self.lower_b).rolling(counter).sum()\n",
    "            counter -= 1\n",
    "            out = (upside >= counter) | (downside >= counter)\n",
    "        elif idx == 4:\n",
    "            # Four out of five points in zone B or beyond\n",
    "            counter = 5\n",
    "            upside = (self.data > self.upper_c).rolling(counter).sum()\n",
    "            downside = (self.data < self.lower_c).rolling(counter).sum()\n",
    "            counter -= 1\n",
    "            out = (upside >= counter) | (downside >= counter)\n",
    "        elif idx == 5:\n",
    "            # Fifteen points are all in zone c\n",
    "            counter = 15\n",
    "            out = (self.data < self.upper_c) & (self.data > self.lower_c)\n",
    "            out = out.rolling(counter).sum()\n",
    "            out = (out == counter)\n",
    "        elif idx == 6:\n",
    "            # Eight continual points with none in zone c\n",
    "            counter = 8\n",
    "            out = (self.data > self.upper_c) | (self.data < self.lower_c)\n",
    "            out = out.rolling(counter).sum()\n",
    "            out = (out == counter)\n",
    "        else:\n",
    "            raise ValueError(\"Only implement rule 1~6\")\n",
    "        return out\n",
    "    \n",
    "    # Six or more points are continually increasing or decreasing\n",
    "    def rule7(self):\n",
    "        pass\n",
    "    \n",
    "    # Fourteen or more points alternate in direction\n",
    "    def rule8(self):\n",
    "        ofc8_ind = []\n",
    "        for i in range(self.n - 13):\n",
    "            d = self.data[i:i+14]\n",
    "            idx = self.index[i:i+14]\n",
    "            diff = list(v - u for u, v in zip(d, d[1:]))\n",
    "            if all(u * v < 0):\n",
    "                pass"
   ]
  },
  {
   "cell_type": "code",
   "execution_count": 6,
   "id": "8e43d0d8",
   "metadata": {},
   "outputs": [],
   "source": [
    "csv_lst = [\"09112001\", \"17112001\", \"20112001\", \"30102001\"]\n",
    "for filename in csv_lst:\n",
    "    df = pd.read_csv(f\"data/DMDS/csv_fe/{filename}.csv\")\n",
    "    features_num = 15\n",
    "    features_name = df.columns[:features_num]\n",
    "    datas = df.iloc[:, :features_num]\n",
    "    datas.columns = [\"\" for _ in range(datas.shape[1])]\n",
    "    means = df.iloc[:, features_num: 2 * features_num]\n",
    "    means.columns = [\"\" for _ in range(means.shape[1])]\n",
    "    stds = df.iloc[:, 2 * features_num: 3 * features_num]\n",
    "    stds.columns = [\"\" for _ in range(stds.shape[1])]\n",
    "\n",
    "    rule_gen = SPCRules(datas, means, stds)\n",
    "    rule_lst = []\n",
    "    for i in range(1, 7):\n",
    "        rule_df = rule_gen.detect(idx = i)\n",
    "        rule_df.columns = [f\"{name}_rule{i}\" for name in features_name]\n",
    "        rule_lst.append(rule_df)\n",
    "\n",
    "    df_fe = pd.concat([df.iloc[:, :features_num]] + rule_lst, axis = 1)\n",
    "    \n",
    "    # remove dummy rule columns\n",
    "    remove_cols = ['LC51_03CV_rule2', 'LC51_03X_rule2', 'P51_06_rule2', 'T51_01_rule2', 'F51_01_rule2', 'P57_03_rule2', 'FC57_03PV_rule2', 'FC57_03CV_rule2', 'FC57_03X_rule2', 'T51_01_rule4', 'P57_03_rule4', 'FC57_03PV_rule4', 'FC57_03CV_rule4', 'FC57_03X_rule4', 'T51_01_rule5', 'T51_01_rule6', 'FC57_03PV_rule6']\n",
    "    df_fe.drop(columns = remove_cols, inplace = True)\n",
    "    df_fe.to_csv(f\"data/DMDS/csv_fe/{filename}_spc_label.csv\", index = False)"
   ]
  },
  {
   "cell_type": "code",
   "execution_count": null,
   "id": "5de541c0",
   "metadata": {},
   "outputs": [],
   "source": [
    "df_fe.columns, len(df_fe.columns)\n",
    "df_fe.columns[15:]"
   ]
  },
  {
   "cell_type": "code",
   "execution_count": null,
   "id": "dd5113ff",
   "metadata": {},
   "outputs": [],
   "source": [
    "rule_df = df_fe.iloc[:, 15:]\n",
    "remove_cols = []\n",
    "for i, item in enumerate(rule_df.sum(axis = 0)):\n",
    "    rate = item / rule_df.shape[0] * 100\n",
    "    if rate > 40:\n",
    "        print(f\"{rule_df.columns[i]}: {rate:.2f}%\")\n",
    "        remove_cols.append(rule_df.columns[i])\n",
    "        \n",
    "print(len(remove_cols))\n",
    "print(remove_cols)"
   ]
  },
  {
   "cell_type": "code",
   "execution_count": null,
   "id": "5b053c24",
   "metadata": {},
   "outputs": [],
   "source": [
    "def print_rule(rule):\n",
    "    print(rule.shape)\n",
    "    print(np.sum(rule.to_numpy(), axis=(1, 0)))\n",
    "    print()\n",
    "    \n",
    "print_rule(rule1_out)\n",
    "print_rule(rule2_out)\n",
    "print_rule(rule5_out)\n",
    "print_rule(rule6_out)\n",
    "print_rule(rule7_out)\n",
    "print_rule(rule8_out)"
   ]
  },
  {
   "cell_type": "code",
   "execution_count": 7,
   "id": "491d0d06",
   "metadata": {},
   "outputs": [],
   "source": [
    "df = pd.read_csv(f\"data/DMDS/csv_fe/17112001_spc_label.csv\")"
   ]
  },
  {
   "cell_type": "code",
   "execution_count": 8,
   "id": "e18c4afb",
   "metadata": {},
   "outputs": [
    {
     "data": {
      "text/plain": [
       "Index(['LC51_03CV_rule1', 'LC51_03X_rule1', 'LC51_03PV_rule1', 'P51_06_rule1',\n",
       "       'T51_01_rule1', 'F51_01_rule1', 'P57_03_rule1', 'P57_04_rule1',\n",
       "       'FC57_03PV_rule1', 'FC57_03CV_rule1', 'FC57_03X_rule1', 'F74_00_rule1',\n",
       "       'LC74_20CV_rule1', 'LC74_20X_rule1', 'LC74_20PV_rule1',\n",
       "       'LC51_03PV_rule2', 'P57_04_rule2', 'F74_00_rule2', 'LC74_20CV_rule2',\n",
       "       'LC74_20X_rule2', 'LC74_20PV_rule2', 'LC51_03CV_rule3',\n",
       "       'LC51_03X_rule3', 'LC51_03PV_rule3', 'P51_06_rule3', 'T51_01_rule3',\n",
       "       'F51_01_rule3', 'P57_03_rule3', 'P57_04_rule3', 'FC57_03PV_rule3',\n",
       "       'FC57_03CV_rule3', 'FC57_03X_rule3', 'F74_00_rule3', 'LC74_20CV_rule3',\n",
       "       'LC74_20X_rule3', 'LC74_20PV_rule3', 'LC51_03CV_rule4',\n",
       "       'LC51_03X_rule4', 'LC51_03PV_rule4', 'P51_06_rule4', 'F51_01_rule4',\n",
       "       'P57_04_rule4', 'F74_00_rule4', 'LC74_20CV_rule4', 'LC74_20X_rule4',\n",
       "       'LC74_20PV_rule4', 'LC51_03CV_rule5', 'LC51_03X_rule5',\n",
       "       'LC51_03PV_rule5', 'P51_06_rule5', 'F51_01_rule5', 'P57_03_rule5',\n",
       "       'P57_04_rule5', 'FC57_03PV_rule5', 'FC57_03CV_rule5', 'FC57_03X_rule5',\n",
       "       'F74_00_rule5', 'LC74_20CV_rule5', 'LC74_20X_rule5', 'LC74_20PV_rule5',\n",
       "       'LC51_03CV_rule6', 'LC51_03X_rule6', 'LC51_03PV_rule6', 'P51_06_rule6',\n",
       "       'F51_01_rule6', 'P57_03_rule6', 'P57_04_rule6', 'FC57_03CV_rule6',\n",
       "       'FC57_03X_rule6', 'F74_00_rule6', 'LC74_20CV_rule6', 'LC74_20X_rule6',\n",
       "       'LC74_20PV_rule6'],\n",
       "      dtype='object')"
      ]
     },
     "execution_count": 8,
     "metadata": {},
     "output_type": "execute_result"
    }
   ],
   "source": [
    "df.columns[15:]"
   ]
  },
  {
   "cell_type": "code",
   "execution_count": null,
   "id": "070b1c2a",
   "metadata": {},
   "outputs": [],
   "source": []
  }
 ],
 "metadata": {
  "kernelspec": {
   "display_name": "Python 3 (ipykernel)",
   "language": "python",
   "name": "python3"
  },
  "language_info": {
   "codemirror_mode": {
    "name": "ipython",
    "version": 3
   },
   "file_extension": ".py",
   "mimetype": "text/x-python",
   "name": "python",
   "nbconvert_exporter": "python",
   "pygments_lexer": "ipython3",
   "version": "3.8.10"
  }
 },
 "nbformat": 4,
 "nbformat_minor": 5
}
