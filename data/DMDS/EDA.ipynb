{
 "cells": [
  {
   "cell_type": "code",
   "execution_count": null,
   "id": "560aa36a",
   "metadata": {},
   "outputs": [],
   "source": [
    "import matplotlib.pyplot as plt\n",
    "import pandas as pd\n",
    "import numpy as np\n",
    "import glob"
   ]
  },
  {
   "cell_type": "code",
   "execution_count": null,
   "id": "00f9df20",
   "metadata": {},
   "outputs": [],
   "source": [
    "def txt2csv(filename, durations: list, labels: list, save_csv: bool = True, save_dir: str = \"./csv\"): # filename: *.txt\n",
    "    # read txt as dataframe\n",
    "    df = pd.read_csv(filename, sep = '\t', header=None)\n",
    "    df.drop(columns = [0], inplace = True)\n",
    "    columns = [\n",
    "        \"P51_05\", \"P51_06\", \"T51_01\", \"F51_01\", \"LC51_03CV\", # Actuator01\n",
    "        \"LC51_03X\", \"LC51_03PV\", \"TC51_05\", \"T51_08\", \"D51_01\",\n",
    "        \"D51_02\", \"F51_02\", \"PC51_01\", \"T51_06\", \"P51_03\", \"T51_07\",\n",
    "        \"P57_03\", \"P57_04\", \"T57_03\", \"FC57_03PV\", \"FC57_03CV\", \"FC57_03X\", # Actuator02\n",
    "        \"P74_00\", \"P74_01\", \"T74_00\", \"F74_00\", \"LC74_20CV\", \"LC74_20X\", # Actuator03\n",
    "        \"LC74_20PV\", \"F74_30\", \"P74_30\", \"T74_30\"\n",
    "    ]\n",
    "    df.columns = columns\n",
    "    \n",
    "    # set class label\n",
    "    class_label = np.zeros((df.shape[0],), dtype = \"int8\")\n",
    "    for duration, label in zip(durations, labels):\n",
    "        class_label[duration[0]: duration[1]] = label\n",
    "\n",
    "    anomaly_label = np.asarray((class_label != 0), dtype = \"int8\")\n",
    "    \n",
    "    df['fault_label'] = class_label\n",
    "    df['anomaly_label'] = anomaly_label\n",
    "    \n",
    "    if save_csv:\n",
    "        file = filename.split('/')[-1].split('.')[0] + \".csv\"\n",
    "        save_dir += '/'\n",
    "#         print(save_dir, file)\n",
    "        df.to_csv(save_dir + file, index = False)\n",
    "        \n",
    "    return df\n",
    "\n",
    "def my_plot(x, Ys, label_lst, title = \"\", figsize = (16, 9)):\n",
    "    plt.figure(figsize = figsize, dpi = 100)\n",
    "    plt.title(title)\n",
    "    for y, label in zip(Ys, label_lst):\n",
    "        plt.plot(x, y, label = label)\n",
    "    plt.legend()\n",
    "    plt.show()\n",
    "    \n",
    "def analysis(file: str, start: int, end: int, columns: list):\n",
    "    df = pd.read_csv(file)\n",
    "    Ys = df[columns][start: end].to_numpy().transpose()\n",
    "    x = np.arange(start, end)\n",
    "    my_plot(x, Ys, columns, file)"
   ]
  },
  {
   "cell_type": "code",
   "execution_count": null,
   "id": "2cc1ecdf",
   "metadata": {},
   "outputs": [],
   "source": [
    "# txt to csv\n",
    "file = \"./raw/30102001.txt\"\n",
    "durations = [\n",
    "    (58800, 59800),\n",
    "    (57340, 57890)\n",
    "]\n",
    "labels = [18, 18]\n",
    "df = txt2csv(file, durations, labels)\n",
    "\n",
    "file = \"./raw/09112001.txt\"\n",
    "durations = [\n",
    "    (57275, 57550),\n",
    "    (58520, 58625),\n",
    "    (58830, 59300),\n",
    "    (60650, 60700),\n",
    "    (60870, 60960)\n",
    "]\n",
    "labels = [16, 18, 18, 16, 16]\n",
    "df = txt2csv(file, durations, labels)\n",
    "\n",
    "file = \"./raw/17112001.txt\"\n",
    "durations = [\n",
    "    (54600, 54700),\n",
    "    (56670, 56770),\n",
    "    (53780, 53794),\n",
    "    (54193, 54215),\n",
    "    (55482, 55517),\n",
    "    (55977, 56015),\n",
    "    (57030, 57072),\n",
    "    (57475, 57530),\n",
    "    (57675, 57800),\n",
    "    (58150, 58325),\n",
    "]\n",
    "labels = [18, 16, 17, 17, 19, 19, 19, 16, 16, 19]\n",
    "df = txt2csv(file, durations, labels)\n",
    "\n",
    "file = \"./raw/20112001.txt\"\n",
    "durations = [\n",
    "    (37780, 38400),\n",
    "    (44400, None),\n",
    "]\n",
    "labels = [17, 17]\n",
    "df = txt2csv(file, durations, labels)"
   ]
  },
  {
   "cell_type": "code",
   "execution_count": null,
   "id": "85af1487",
   "metadata": {},
   "outputs": [],
   "source": [
    "df"
   ]
  },
  {
   "cell_type": "markdown",
   "id": "c841e4e5",
   "metadata": {},
   "source": [
    "## EDA"
   ]
  },
  {
   "cell_type": "code",
   "execution_count": null,
   "id": "7def76ed",
   "metadata": {},
   "outputs": [],
   "source": [
    "filename = \"./csv/01112001.csv\"\n",
    "df = pd.read_csv(filename)"
   ]
  },
  {
   "cell_type": "code",
   "execution_count": null,
   "id": "75f21a83",
   "metadata": {
    "scrolled": true
   },
   "outputs": [],
   "source": [
    "# fault in 30102001.csv\n",
    "file = \"./csv/30102001.csv\"\n",
    "start, end = 58800, 59800\n",
    "col_lst = [\"LC51_03CV\", \"LC51_03X\", \"LC51_03PV\"]\n",
    "analysis(file, start, end, col_lst)\n",
    "\n",
    "start, end = 57340, 57890\n",
    "col_lst = [\"F74_00\", \"LC74_20CV\", \"LC74_20X\", \"LC74_20PV\"]\n",
    "analysis(file, start, end, col_lst)"
   ]
  },
  {
   "cell_type": "code",
   "execution_count": null,
   "id": "310a4a90",
   "metadata": {
    "scrolled": true
   },
   "outputs": [],
   "source": [
    "# fault in 09112001.csv\n",
    "file = \"./csv/09112001.csv\"\n",
    "start, end = 57275, 57550\n",
    "col_lst = [\"LC51_03CV\", \"LC51_03X\", \"LC51_03PV\"]\n",
    "analysis(file, start, end, col_lst)\n",
    "\n",
    "start, end = 58830, 59300\n",
    "analysis(file, start, end, col_lst)\n",
    "\n",
    "start, end = 58520, 58625\n",
    "analysis(file, start, end, col_lst)\n",
    "\n",
    "start, end = 60650, 60700\n",
    "col_lst = [\"LC74_20CV\", \"LC74_20X\", \"LC74_20PV\"]\n",
    "analysis(file, start, end, col_lst)\n",
    "\n",
    "start, end = 60870, 60960\n",
    "analysis(file, start, end, col_lst)"
   ]
  },
  {
   "cell_type": "code",
   "execution_count": null,
   "id": "6e25b158",
   "metadata": {
    "scrolled": true
   },
   "outputs": [],
   "source": [
    "# fault in 171122001.csv\n",
    "start, end = 54600, 54700\n",
    "file = \"./csv/17112001.csv\"\n",
    "col_lst = [\"LC51_03CV\", \"LC51_03X\", \"LC51_03PV\"]\n",
    "analysis(file, start, end, col_lst)\n",
    "\n",
    "start, end = 56670, 56770\n",
    "analysis(file, start, end, col_lst)\n",
    "\n",
    "start, end = 37780, 58400\n",
    "col_lst = [\"P51_06\", \"T51_01\", \"F51\"]\n",
    "analysis(file, start, end, col_lst)"
   ]
  },
  {
   "cell_type": "markdown",
   "id": "449d91e1",
   "metadata": {},
   "source": [
    "## Test TSAnomalyDataset"
   ]
  },
  {
   "cell_type": "code",
   "execution_count": 1,
   "id": "7eb498eb",
   "metadata": {},
   "outputs": [],
   "source": [
    "import pandas as pd\n",
    "import sys\n",
    "sys.path.append(\"../../\")\n",
    "from ts_transformers.data import TSAnomalyDataset, TSAnomalyConfig\n",
    "from ts_transformers.data import SPCAnomalyDataset, SPCAnomalyConfig"
   ]
  },
  {
   "cell_type": "code",
   "execution_count": 2,
   "id": "796a636b",
   "metadata": {},
   "outputs": [
    {
     "name": "stdout",
     "output_type": "stream",
     "text": [
      "torch.Size([256, 33]) torch.Size([])\n",
      "torch.Size([256, 33]) torch.Size([]) torch.Size([])\n"
     ]
    }
   ],
   "source": [
    "# test TSAnomalyDataset (base dataset)\n",
    "config = TSAnomalyConfig(\n",
    "    target_col=\"anomaly_label\",\n",
    "    window_size=256,\n",
    ")\n",
    "\n",
    "filepath = \"./csv/17112001.csv\"\n",
    "df = pd.read_csv(filepath)\n",
    "ts_dataset = TSAnomalyDataset(df, config)\n",
    "\n",
    "x, y = ts_dataset[0]\n",
    "print(x.shape, y.shape)\n",
    "\n",
    "# test SPCDataset (derived class)\n",
    "config = SPCAnomalyConfig(\n",
    "    spc_col=\"fault_label\",\n",
    "    target_col=\"anomaly_label\",\n",
    "    window_size=256,\n",
    ")\n",
    "spc_dataset = SPCAnomalyDataset(df, config)\n",
    "\n",
    "x, spc, y = spc_dataset[0]\n",
    "print(x.shape, spc.shape, y.shape)"
   ]
  },
  {
   "cell_type": "code",
   "execution_count": null,
   "id": "5df07766",
   "metadata": {},
   "outputs": [],
   "source": []
  }
 ],
 "metadata": {
  "kernelspec": {
   "display_name": "Python 3 (ipykernel)",
   "language": "python",
   "name": "python3"
  },
  "language_info": {
   "codemirror_mode": {
    "name": "ipython",
    "version": 3
   },
   "file_extension": ".py",
   "mimetype": "text/x-python",
   "name": "python",
   "nbconvert_exporter": "python",
   "pygments_lexer": "ipython3",
   "version": "3.8.10"
  }
 },
 "nbformat": 4,
 "nbformat_minor": 5
}
